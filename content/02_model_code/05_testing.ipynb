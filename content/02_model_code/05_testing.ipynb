{
 "cells": [
  {
   "cell_type": "markdown",
   "id": "cd03d147",
   "metadata": {},
   "source": [
    "# Model testing\n",
    "\n",
    "This notebook provides a set of tests to run against `treat_sim`.  These tests are either pass or fail and no interpretation is needed. A summary of test results is provided at the end of the notebook.\n",
    "\n",
    "> This notebook is a work in progress.\n",
    "\n",
    "We have broken the testing into the "
   ]
  },
  {
   "cell_type": "markdown",
   "id": "8add8585",
   "metadata": {},
   "source": [
    "## 1. Model Code Imports"
   ]
  },
  {
   "cell_type": "code",
   "execution_count": 1,
   "id": "0c92649f",
   "metadata": {},
   "outputs": [],
   "source": [
    "from treat_sim.model import (\n",
    "    Scenario, \n",
    "    TreatmentCentreModel,\n",
    "    single_run, \n",
    "    multiple_replications\n",
    ")"
   ]
  },
  {
   "cell_type": "markdown",
   "id": "3a6440ab",
   "metadata": {},
   "source": [
    "## 2. Imports"
   ]
  },
  {
   "cell_type": "code",
   "execution_count": 2,
   "id": "b1d32c72",
   "metadata": {},
   "outputs": [],
   "source": [
    "import numpy as np\n",
    "import pandas as pd\n",
    "import statistics\n",
    "import pytest\n",
    "import ipytest\n",
    "ipytest.autoconfig()"
   ]
  },
  {
   "cell_type": "markdown",
   "id": "b05f2468",
   "metadata": {},
   "source": [
    "## 3. Tests\n",
    "\n",
    "### 3.1 Model run test\n",
    "\n",
    "Here we test that various modes of running the model work correctly.  These include\n",
    "\n",
    "* single run mode\n",
    "* repeatable results using random number sets.\n",
    "* results collection period\n",
    "\n"
   ]
  },
  {
   "cell_type": "code",
   "execution_count": 3,
   "id": "d6818122",
   "metadata": {},
   "outputs": [],
   "source": [
    "def test_single_run_type():\n",
    "    '''\n",
    "    Test a single_run of the model.\n",
    "    \n",
    "    The single_run function should return a pandas.DataFrame\n",
    "    containing 16 columns and a single row.\n",
    "    \n",
    "     0   00_arrivals                    \n",
    "     1   01a_triage_wait                 \n",
    "     2   01b_triage_util               \n",
    "     3   02a_registration_wait         \n",
    "     4   02b_registration_util        \n",
    "     5   03a_examination_wait          \n",
    "     6   03b_examination_util          \n",
    "     7   04a_treatment_wait(non_trauma)  \n",
    "     8   04b_treatment_util(non_trauma)  \n",
    "     9   05_total_time(non-trauma)       \n",
    "     10  06a_trauma_wait               \n",
    "     11  06b_trauma_util                 \n",
    "     12  07a_treatment_wait(trauma)      \n",
    "     13  07b_treatment_util(trauma)      \n",
    "     14  08_total_time(trauma)           \n",
    "     15  09_throughput                   \n",
    "\n",
    "    Expected result: \n",
    "    ---------------\n",
    "        len(run_results) == 16 and isinstance(run_results, pd.Dataframe)\n",
    "\n",
    "    Returns:\n",
    "    -------\n",
    "    bool: does the model pass the test.\n",
    "    '''\n",
    "    EXPECTED_LENGTH = 16\n",
    "\n",
    "    # a default experiment\n",
    "    default_experiment_params = Scenario(random_number_set=41)\n",
    "\n",
    "    # run the model in single run model\n",
    "    run_results = single_run(default_experiment_params)\n",
    "\n",
    "    # test\n",
    "    assert len(run_results.T) == EXPECTED_LENGTH and isinstance(run_results, pd.DataFrame)\n",
    "    "
   ]
  },
  {
   "cell_type": "code",
   "execution_count": 4,
   "id": "a9e124cf",
   "metadata": {},
   "outputs": [],
   "source": [
    "@pytest.mark.parametrize('random_number_set', [\n",
    "                          (0),\n",
    "                          (1),\n",
    "                          (2),\n",
    "                          (101),\n",
    "                          (42),\n",
    "])\n",
    "def test_random_number_set(random_number_set):\n",
    "    '''\n",
    "    Test the model produces repeatable results\n",
    "    given the same set set of random seeds.\n",
    "    \n",
    "    Expected result: \n",
    "    ---------------\n",
    "        difference between data frames is 0.0\n",
    "    '''\n",
    "\n",
    "    results = []\n",
    "\n",
    "    for i in range(2):\n",
    "        \n",
    "        exp = Scenario()\n",
    "\n",
    "        # run the model in single run model\n",
    "        run_results = single_run(exp, random_no_set=random_number_set)\n",
    "    \n",
    "        results.append(run_results)\n",
    "        \n",
    "    # test\n",
    "    assert (results[0] - results[1]).sum().sum() == 0.0"
   ]
  },
  {
   "cell_type": "code",
   "execution_count": 5,
   "id": "3a42c652",
   "metadata": {},
   "outputs": [],
   "source": [
    "@pytest.mark.parametrize('rc_period', [\n",
    "                          (10.0),\n",
    "                          (1_000.0),\n",
    "                          (25.0),\n",
    "                          (500.0),\n",
    "                          (143.0),\n",
    "])\n",
    "def test_run_length_control(rc_period):\n",
    "    scenario = Scenario()\n",
    "    \n",
    "    # set random number set - this controls sampling for the run.\n",
    "    scenario.set_random_no_set(42)\n",
    "\n",
    "    # create an instance of the model\n",
    "    model = TreatmentCentreModel(scenario)\n",
    "\n",
    "    # run the model\n",
    "    model.run(results_collection_period=rc_period)\n",
    "        \n",
    "    # run results\n",
    "    assert model.env.now == rc_period"
   ]
  },
  {
   "cell_type": "markdown",
   "id": "5d9f3d02",
   "metadata": {},
   "source": [
    "### 3.2. Extreme value tests\n",
    "\n",
    "Here we manipulate the input parameters of the model to test that it behaves as expected. We run the following tests\n",
    "\n",
    "* Zero arrivals of both types\n",
    "* All arrivals are trauma\n",
    "* All arrivals are non-trauma\n",
    "* Infinite capacity for activities\n",
    "* All non-trauma patients require treatment\n",
    "* All non-trauma patients do not require treatment\n",
    "\n",
    "> To investigate: blocked queues.  Simpy requires you to set resource count >=1; so cannot be simply blocked.  One way around this an arrival at time 0 and set activity time of the key activity to $M$ wa very large number. This means that the 1st patient arrives before the \"real\" arrival process begins, takes the 1 resource available and blocks the queue.  Do we actually need to do this?\n"
   ]
  },
  {
   "cell_type": "code",
   "execution_count": 38,
   "id": "26e010ee",
   "metadata": {},
   "outputs": [],
   "source": [
    "### NOTE: we are ignoring mean of empty array warnings from numpy\n",
    "### We will handle this in a future release of treat_sim.\n",
    "\n",
    "@pytest.mark.filterwarnings(\"ignore\")\n",
    "@pytest.mark.parametrize('random_no_set', [\n",
    "                          (42),\n",
    "                          (1),\n",
    "                          (754),\n",
    "                          (9876534321),\n",
    "                          (76546783986555),\n",
    "])\n",
    "def test_all_trauma(random_no_set):\n",
    "    \n",
    "    # create a new scenario and set prob of trauma to 100%\n",
    "    scenario = Scenario(prob_trauma=1.0)\n",
    "\n",
    "    # run the model in single run model\n",
    "    run_results = single_run(scenario, random_no_set=random_no_set)\n",
    "        \n",
    "    # run results\n",
    "    assert pd.isna(run_results['05_total_time(non-trauma)'].iloc[0]) and pd.isna(run_results['02a_registration_wait'].iloc[0]) and not pd.isna(run_results['08_total_time(trauma)'].iloc[0]) "
   ]
  },
  {
   "cell_type": "markdown",
   "id": "9c94301d",
   "metadata": {},
   "source": [
    "### 3.3 Deterministic activities\n",
    "\n",
    "We have simplifed the model to a deterministic run by replacing all activity distributions with a fixed static value.\n",
    "\n",
    "> To do: This will involve modifying the Scenario class distributions. Do we allow arrivals to remain stochastic (rate and patient type?). "
   ]
  },
  {
   "cell_type": "markdown",
   "id": "da0fdf22",
   "metadata": {},
   "source": [
    "## 4. Run all automated tests"
   ]
  },
  {
   "cell_type": "code",
   "execution_count": 39,
   "id": "a9589b79",
   "metadata": {},
   "outputs": [
    {
     "name": "stdout",
     "output_type": "stream",
     "text": [
      "\u001b[1m======================================= test session starts ========================================\u001b[0m\n",
      "\u001b[1mcollecting ... \u001b[0mcollected 16 items\n",
      "\n",
      "t_553dd3e420a94c1083322397e4898f02.py::test_single_run_type \u001b[32mPASSED\u001b[0m\u001b[32m                           [  6%]\u001b[0m\n",
      "t_553dd3e420a94c1083322397e4898f02.py::test_random_number_set[0] \u001b[32mPASSED\u001b[0m\u001b[32m                      [ 12%]\u001b[0m\n",
      "t_553dd3e420a94c1083322397e4898f02.py::test_random_number_set[1] \u001b[32mPASSED\u001b[0m\u001b[32m                      [ 18%]\u001b[0m\n",
      "t_553dd3e420a94c1083322397e4898f02.py::test_random_number_set[2] \u001b[32mPASSED\u001b[0m\u001b[32m                      [ 25%]\u001b[0m\n",
      "t_553dd3e420a94c1083322397e4898f02.py::test_random_number_set[101] \u001b[32mPASSED\u001b[0m\u001b[32m                    [ 31%]\u001b[0m\n",
      "t_553dd3e420a94c1083322397e4898f02.py::test_random_number_set[42] \u001b[32mPASSED\u001b[0m\u001b[32m                     [ 37%]\u001b[0m\n",
      "t_553dd3e420a94c1083322397e4898f02.py::test_run_length_control[10.0] \u001b[32mPASSED\u001b[0m\u001b[32m                  [ 43%]\u001b[0m\n",
      "t_553dd3e420a94c1083322397e4898f02.py::test_run_length_control[1000.0] \u001b[32mPASSED\u001b[0m\u001b[32m                [ 50%]\u001b[0m\n",
      "t_553dd3e420a94c1083322397e4898f02.py::test_run_length_control[25.0] \u001b[32mPASSED\u001b[0m\u001b[32m                  [ 56%]\u001b[0m\n",
      "t_553dd3e420a94c1083322397e4898f02.py::test_run_length_control[500.0] \u001b[32mPASSED\u001b[0m\u001b[32m                 [ 62%]\u001b[0m\n",
      "t_553dd3e420a94c1083322397e4898f02.py::test_run_length_control[143.0] \u001b[32mPASSED\u001b[0m\u001b[32m                 [ 68%]\u001b[0m\n",
      "t_553dd3e420a94c1083322397e4898f02.py::test_all_trauma[42] \u001b[32mPASSED\u001b[0m\u001b[32m                            [ 75%]\u001b[0m\n",
      "t_553dd3e420a94c1083322397e4898f02.py::test_all_trauma[1] \u001b[32mPASSED\u001b[0m\u001b[32m                             [ 81%]\u001b[0m\n",
      "t_553dd3e420a94c1083322397e4898f02.py::test_all_trauma[754] \u001b[32mPASSED\u001b[0m\u001b[32m                           [ 87%]\u001b[0m\n",
      "t_553dd3e420a94c1083322397e4898f02.py::test_all_trauma[9876534321] \u001b[32mPASSED\u001b[0m\u001b[32m                    [ 93%]\u001b[0m\n",
      "t_553dd3e420a94c1083322397e4898f02.py::test_all_trauma[76546783986555] \u001b[32mPASSED\u001b[0m\u001b[32m                [100%]\u001b[0m\n",
      "\n",
      "\u001b[32m======================================== \u001b[32m\u001b[1m16 passed\u001b[0m\u001b[32m in 2.49s\u001b[0m\u001b[32m ========================================\u001b[0m\n"
     ]
    },
    {
     "data": {
      "text/plain": [
       "<ExitCode.OK: 0>"
      ]
     },
     "execution_count": 39,
     "metadata": {},
     "output_type": "execute_result"
    }
   ],
   "source": [
    "ipytest.run(\"-vv\", \"--no-header\")"
   ]
  },
  {
   "cell_type": "code",
   "execution_count": 23,
   "id": "618544f5",
   "metadata": {},
   "outputs": [
    {
     "name": "stderr",
     "output_type": "stream",
     "text": [
      "/home/tom/miniforge3/envs/stars_docs/lib/python3.10/site-packages/treat_sim/model.py:916: RuntimeWarning: Mean of empty slice.\n",
      "  if getattr(p, metric) > -np.inf]).mean()\n",
      "/home/tom/miniforge3/envs/stars_docs/lib/python3.10/site-packages/numpy/core/_methods.py:129: RuntimeWarning: invalid value encountered in scalar divide\n",
      "  ret = ret.dtype.type(ret / rcount)\n"
     ]
    },
    {
     "data": {
      "text/plain": [
       "rep\n",
       "1   NaN\n",
       "Name: 05_total_time(non-trauma), dtype: float64"
      ]
     },
     "execution_count": 23,
     "metadata": {},
     "output_type": "execute_result"
    }
   ],
   "source": [
    "scenario = Scenario(prob_trauma=1.0)\n",
    "\n",
    "# run the model in single run model\n",
    "run_results = single_run(scenario, random_no_set=42)\n",
    "\n",
    "# run results\n",
    "run_results['05_total_time(non-trauma)']"
   ]
  },
  {
   "cell_type": "code",
   "execution_count": 22,
   "id": "15b4b980",
   "metadata": {},
   "outputs": [
    {
     "data": {
      "text/html": [
       "<div>\n",
       "<style scoped>\n",
       "    .dataframe tbody tr th:only-of-type {\n",
       "        vertical-align: middle;\n",
       "    }\n",
       "\n",
       "    .dataframe tbody tr th {\n",
       "        vertical-align: top;\n",
       "    }\n",
       "\n",
       "    .dataframe thead th {\n",
       "        text-align: right;\n",
       "    }\n",
       "</style>\n",
       "<table border=\"1\" class=\"dataframe\">\n",
       "  <thead>\n",
       "    <tr style=\"text-align: right;\">\n",
       "      <th></th>\n",
       "      <th>00_arrivals</th>\n",
       "      <th>01a_triage_wait</th>\n",
       "      <th>01b_triage_util</th>\n",
       "      <th>02a_registration_wait</th>\n",
       "      <th>02b_registration_util</th>\n",
       "      <th>03a_examination_wait</th>\n",
       "      <th>03b_examination_util</th>\n",
       "      <th>04a_treatment_wait(non_trauma)</th>\n",
       "      <th>04b_treatment_util(non_trauma)</th>\n",
       "      <th>05_total_time(non-trauma)</th>\n",
       "      <th>06a_trauma_wait</th>\n",
       "      <th>06b_trauma_util</th>\n",
       "      <th>07a_treatment_wait(trauma)</th>\n",
       "      <th>07b_treatment_util(trauma)</th>\n",
       "      <th>08_total_time(trauma)</th>\n",
       "      <th>09_throughput</th>\n",
       "    </tr>\n",
       "    <tr>\n",
       "      <th>rep</th>\n",
       "      <th></th>\n",
       "      <th></th>\n",
       "      <th></th>\n",
       "      <th></th>\n",
       "      <th></th>\n",
       "      <th></th>\n",
       "      <th></th>\n",
       "      <th></th>\n",
       "      <th></th>\n",
       "      <th></th>\n",
       "      <th></th>\n",
       "      <th></th>\n",
       "      <th></th>\n",
       "      <th></th>\n",
       "      <th></th>\n",
       "      <th></th>\n",
       "    </tr>\n",
       "  </thead>\n",
       "  <tbody>\n",
       "    <tr>\n",
       "      <th>1</th>\n",
       "      <td>209.0</td>\n",
       "      <td>16.622674</td>\n",
       "      <td>0.527512</td>\n",
       "      <td>NaN</td>\n",
       "      <td>0.0</td>\n",
       "      <td>NaN</td>\n",
       "      <td>0.0</td>\n",
       "      <td>NaN</td>\n",
       "      <td>0.0</td>\n",
       "      <td>NaN</td>\n",
       "      <td>474.329761</td>\n",
       "      <td>1.058193</td>\n",
       "      <td>31.50246</td>\n",
       "      <td>0.577901</td>\n",
       "      <td>518.095263</td>\n",
       "      <td>21.0</td>\n",
       "    </tr>\n",
       "  </tbody>\n",
       "</table>\n",
       "</div>"
      ],
      "text/plain": [
       "     00_arrivals  01a_triage_wait  01b_triage_util  02a_registration_wait  \\\n",
       "rep                                                                         \n",
       "1          209.0        16.622674         0.527512                    NaN   \n",
       "\n",
       "     02b_registration_util  03a_examination_wait  03b_examination_util  \\\n",
       "rep                                                                      \n",
       "1                      0.0                   NaN                   0.0   \n",
       "\n",
       "     04a_treatment_wait(non_trauma)  04b_treatment_util(non_trauma)  \\\n",
       "rep                                                                   \n",
       "1                               NaN                             0.0   \n",
       "\n",
       "     05_total_time(non-trauma)  06a_trauma_wait  06b_trauma_util  \\\n",
       "rep                                                                \n",
       "1                          NaN       474.329761         1.058193   \n",
       "\n",
       "     07a_treatment_wait(trauma)  07b_treatment_util(trauma)  \\\n",
       "rep                                                           \n",
       "1                      31.50246                    0.577901   \n",
       "\n",
       "     08_total_time(trauma)  09_throughput  \n",
       "rep                                        \n",
       "1               518.095263           21.0  "
      ]
     },
     "execution_count": 22,
     "metadata": {},
     "output_type": "execute_result"
    }
   ],
   "source": [
    "run_results"
   ]
  },
  {
   "cell_type": "code",
   "execution_count": null,
   "id": "3c2638e2",
   "metadata": {},
   "outputs": [],
   "source": []
  }
 ],
 "metadata": {
  "kernelspec": {
   "display_name": "Python 3 (ipykernel)",
   "language": "python",
   "name": "python3"
  },
  "language_info": {
   "codemirror_mode": {
    "name": "ipython",
    "version": 3
   },
   "file_extension": ".py",
   "mimetype": "text/x-python",
   "name": "python",
   "nbconvert_exporter": "python",
   "pygments_lexer": "ipython3",
   "version": "3.10.14"
  }
 },
 "nbformat": 4,
 "nbformat_minor": 5
}
